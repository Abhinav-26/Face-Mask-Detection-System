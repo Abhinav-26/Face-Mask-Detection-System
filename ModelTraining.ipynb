{
 "cells": [
  {
   "cell_type": "markdown",
   "metadata": {},
   "source": [
    "# Model Training Code Using Exsisting models"
   ]
  },
  {
   "cell_type": "code",
   "execution_count": 4,
   "metadata": {},
   "outputs": [],
   "source": [
    "#Importing Necessary Libraries\n",
    "\n",
    "from tensorflow.keras.preprocessing.image import ImageDataGenerator\n",
    "from tensorflow.keras.applications import inception_v3\n",
    "from tensorflow.keras.layers import AveragePooling2D\n",
    "from tensorflow.keras.layers import Dropout, Flatten, Dense, Input \n",
    "from tensorflow.keras.models import Model\n",
    "from tensorflow.keras.optimizers import Adam\n",
    "from tensorflow.keras.applications.inception_v3 import preprocess_input\n",
    "from tensorflow.keras.preprocessing.image import img_to_array\n",
    "from tensorflow.keras.preprocessing.image import load_img\n",
    "from tensorflow.keras.utils import to_categorical\n",
    "from sklearn.preprocessing import LabelBinarizer\n",
    "from sklearn.model_selection import train_test_split\n",
    "from sklearn.metrics import classification_report\n",
    "from imutils import paths\n",
    "import numpy as np\n",
    "import os"
   ]
  },
  {
   "cell_type": "code",
   "execution_count": null,
   "metadata": {},
   "outputs": [],
   "source": [
    "# initialize the initial learning rate, number of epochs to train for,\n",
    "# and batch size\n",
    "#INIT_LR = 1e-4 #default value of adam optimizer\n",
    "#EPOCHS = 20\n",
    "#BS = 32"
   ]
  },
  {
   "cell_type": "code",
   "execution_count": 7,
   "metadata": {},
   "outputs": [
    {
     "name": "stdout",
     "output_type": "stream",
     "text": [
      "[INFO] loading images...\n"
     ]
    }
   ],
   "source": [
    "print(\"[INFO] loading images...\")\n",
    "\n",
    "# To Extract the path of the dataset used for training \n",
    "imagePaths = list(paths.list_images(\"dataset\"))\n",
    "data = []\n",
    "labels = []\n",
    "\n",
    "# loop over the image paths\n",
    "for imagePath in imagePaths:\n",
    "    \n",
    "    # extract the class label from the filename\n",
    "    label = imagePath.split(os.path.sep)[-2]\n",
    "    \n",
    "    # load the input image with size (299,299) coz, inception_v3 model was build with this input size and as we are\n",
    "    # doing fine tuning, so we need to give the same size and preprocess it\n",
    "    image = load_img(imagePath, target_size=(229, 229))\n",
    "    \n",
    "    # To convert image into array\n",
    "    image = img_to_array(image) \n",
    "    image = preprocess_input(image)\n",
    "    \n",
    "    # appending the data and labels with all files\n",
    "    data.append(image)\n",
    "    labels.append(label)"
   ]
  },
  {
   "cell_type": "code",
   "execution_count": 3,
   "metadata": {},
   "outputs": [],
   "source": [
    "# Converting the data and labels to NumPy arrays\n",
    "data = np.array(data, dtype=\"float32\")\n",
    "labels = np.array(labels)"
   ]
  },
  {
   "cell_type": "code",
   "execution_count": 8,
   "metadata": {},
   "outputs": [],
   "source": [
    "# Perform One-Hot encoding on the labels\n",
    "lb = LabelBinarizer()\n",
    "labels = lb.fit_transform(labels)\n",
    "labels = to_categorical(labels)\n",
    "\n",
    "# Splitting the data into Trainng & Testing for checking the accuracy with 20% of data for testing\n",
    "(trainX, testX, trainY, testY) = train_test_split(data, labels,\n",
    "    test_size=0.20, stratify=labels, random_state=42)"
   ]
  },
  {
   "cell_type": "code",
   "execution_count": 5,
   "metadata": {},
   "outputs": [],
   "source": [
    "# construct the training image generator for data augmentation\n",
    "aug = ImageDataGenerator(\n",
    "    rotation_range=20,\n",
    "    zoom_range=0.15,\n",
    "    width_shift_range=0.2,\n",
    "    height_shift_range=0.2,\n",
    "    shear_range=0.15,\n",
    "    horizontal_flip=True,\n",
    "    fill_mode=\"nearest\")"
   ]
  },
  {
   "cell_type": "code",
   "execution_count": 9,
   "metadata": {},
   "outputs": [],
   "source": [
    "# load the inception_v3 network, ensuring the head FC layer sets are left off\n",
    "baseModel = inception_v3.InceptionV3(weights=\"imagenet\", include_top=False,\n",
    "    input_tensor=Input(shape=(229, 229, 3)))"
   ]
  },
  {
   "cell_type": "code",
   "execution_count": 10,
   "metadata": {},
   "outputs": [],
   "source": [
    "# construct the head of the model that will be placed on top of the the base model\n",
    "headModel = baseModel.output\n",
    "headModel = AveragePooling2D(pool_size=(5, 5))(headModel)\n",
    "headModel = Flatten(name=\"flatten\")(headModel)\n",
    "headModel = Dense(128, activation=\"relu\")(headModel)\n",
    "headModel = Dropout(0.5)(headModel)\n",
    "headModel = Dense(2, activation=\"softmax\")(headModel)"
   ]
  },
  {
   "cell_type": "code",
   "execution_count": 8,
   "metadata": {},
   "outputs": [],
   "source": [
    "# Actual model which we will train\n",
    "model = Model(inputs=baseModel.input, outputs=headModel)\n",
    "\n",
    "# Freezing the layers of baseModel so that it won't be trained again\n",
    "for layer in baseModel.layers:\n",
    "    layer.trainable = False"
   ]
  },
  {
   "cell_type": "code",
   "execution_count": 9,
   "metadata": {},
   "outputs": [
    {
     "name": "stdout",
     "output_type": "stream",
     "text": [
      "[INFO] compiling model...\n"
     ]
    }
   ],
   "source": [
    "# Compiling our Model using Adam optimiser\n",
    "print(\"[INFO] compiling model...\")\n",
    "opt = Adam(lr=1e-4, decay=1e-4 / 10)  #1e-4 is default learning rate for Adam Optimiser\n",
    "model.compile(loss=\"binary_crossentropy\", optimizer=opt,\n",
    "    metrics=[\"accuracy\"])"
   ]
  },
  {
   "cell_type": "code",
   "execution_count": 10,
   "metadata": {},
   "outputs": [
    {
     "name": "stdout",
     "output_type": "stream",
     "text": [
      "[INFO] training head...\n",
      "Train for 34 steps, validate on 276 samples\n",
      "Epoch 1/10\n",
      "34/34 [==============================] - 157s 5s/step - loss: 0.7545 - accuracy: 0.5552 - val_loss: 0.4324 - val_accuracy: 0.8438\n",
      "Epoch 2/10\n",
      "34/34 [==============================] - 128s 4s/step - loss: 0.5357 - accuracy: 0.7416 - val_loss: 0.2570 - val_accuracy: 0.9297\n",
      "Epoch 3/10\n",
      "34/34 [==============================] - 121s 4s/step - loss: 0.4480 - accuracy: 0.8015 - val_loss: 0.1430 - val_accuracy: 0.9805\n",
      "Epoch 4/10\n",
      "34/34 [==============================] - 122s 4s/step - loss: 0.3603 - accuracy: 0.8586 - val_loss: 0.0992 - val_accuracy: 0.9883\n",
      "Epoch 5/10\n",
      "34/34 [==============================] - 121s 4s/step - loss: 0.3267 - accuracy: 0.8670 - val_loss: 0.0587 - val_accuracy: 0.9883\n",
      "Epoch 6/10\n",
      "34/34 [==============================] - 124s 4s/step - loss: 0.2953 - accuracy: 0.8764 - val_loss: 0.0536 - val_accuracy: 0.9883\n",
      "Epoch 7/10\n",
      "34/34 [==============================] - 121s 4s/step - loss: 0.2711 - accuracy: 0.8914 - val_loss: 0.0655 - val_accuracy: 0.9766\n",
      "Epoch 8/10\n",
      "34/34 [==============================] - 117s 3s/step - loss: 0.2705 - accuracy: 0.8923 - val_loss: 0.0537 - val_accuracy: 0.9805\n",
      "Epoch 9/10\n",
      "34/34 [==============================] - 124s 4s/step - loss: 0.2307 - accuracy: 0.9092 - val_loss: 0.0413 - val_accuracy: 0.9844\n",
      "Epoch 10/10\n",
      "34/34 [==============================] - 117s 3s/step - loss: 0.2268 - accuracy: 0.9120 - val_loss: 0.0520 - val_accuracy: 0.9766\n"
     ]
    }
   ],
   "source": [
    "# train the head of the network\n",
    "print(\"[INFO] training model...\")\n",
    "H = model.fit(\n",
    "    aug.flow(trainX, trainY, batch_size=32),\n",
    "    steps_per_epoch=len(trainX) // 32,\n",
    "    validation_data=(testX, testY),\n",
    "    validation_steps=len(testX) // 32,\n",
    "    epochs=10)"
   ]
  },
  {
   "cell_type": "code",
   "execution_count": 11,
   "metadata": {},
   "outputs": [
    {
     "name": "stdout",
     "output_type": "stream",
     "text": [
      "[INFO] evaluating network...\n",
      "              precision    recall  f1-score   support\n",
      "\n",
      "   with_mask       0.96      1.00      0.98       138\n",
      "without_mask       1.00      0.96      0.98       138\n",
      "\n",
      "    accuracy                           0.98       276\n",
      "   macro avg       0.98      0.98      0.98       276\n",
      "weighted avg       0.98      0.98      0.98       276\n",
      "\n",
      "[INFO] saving mask detector model...\n"
     ]
    }
   ],
   "source": [
    "# Making Predictions on Testing Dataset\n",
    "print(\"[INFO] evaluating network...\")\n",
    "predIdxs = model.predict(testX, batch_size=32)\n",
    "# for each image in the testing set we need to find the index of the\n",
    "# label with corresponding largest predicted probability\n",
    "predIdxs = np.argmax(predIdxs, axis=1)\n",
    "# show a nicely formatted classification report\n",
    "print(classification_report(testY.argmax(axis=1), predIdxs,\n",
    "    target_names=lb.classes_))"
   ]
  },
  {
   "cell_type": "code",
   "execution_count": null,
   "metadata": {},
   "outputs": [],
   "source": [
    "# serialize the model to disk\n",
    "print(\"[INFO] saving mask detector model...\")\n",
    "model.save(\"MaskDetector.h5\")"
   ]
  }
 ],
 "metadata": {
  "kernelspec": {
   "display_name": "Python 3",
   "language": "python",
   "name": "python3"
  },
  "language_info": {
   "codemirror_mode": {
    "name": "ipython",
    "version": 3
   },
   "file_extension": ".py",
   "mimetype": "text/x-python",
   "name": "python",
   "nbconvert_exporter": "python",
   "pygments_lexer": "ipython3",
   "version": "3.7.7"
  }
 },
 "nbformat": 4,
 "nbformat_minor": 4
}
